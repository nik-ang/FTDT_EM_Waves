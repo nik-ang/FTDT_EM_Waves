{
 "cells": [
  {
   "cell_type": "markdown",
   "metadata": {},
   "source": [
    "# Electromagnetic waves in one dimension using FDTD"
   ]
  },
  {
   "cell_type": "markdown",
   "metadata": {},
   "source": [
    "To simplify the study of the simulation of electromagnetic wave using FDTD we will limit the first case to one-dimensional waves."
   ]
  },
  {
   "cell_type": "markdown",
   "metadata": {},
   "source": [
    "## Central finite difference"
   ]
  },
  {
   "cell_type": "markdown",
   "metadata": {},
   "source": [
    "Using the taylor expansion of a function $f(x)$ at $x = x_0$\n",
    "\n",
    "$$\n",
    "\\begin{align}\n",
    "    & f \\left(x_0 + \\frac{\\delta}{2} \\right) = f(x_0) + \\frac{\\delta}{2} \\frac{d f}{dx}(x_0) + \\mathcal{O}(x^2) \\\\\n",
    "    & f \\left(x_0 - \\frac{\\delta}{2} \\right) = f(x_0) - \\frac{\\delta}{2} \\frac{d f}{dx}(x_0) + \\mathcal{O}(x^2)\n",
    "\\end{align}\n",
    "$$\n",
    "\n",
    "Therefore\n",
    "\n",
    "$$\n",
    "    f \\left(x_0 + \\frac{\\delta}{2} \\right) - f \\left(x_0 - \\frac{\\delta}{2} \\right) = \\delta \\frac{d f}{d x}(x_0) + \\dots\n",
    "$$\n",
    "\n",
    "With\n",
    "\n",
    "$$\n",
    "    \\frac{d f}{d x}(x_0) = \\frac{f \\left(x_0 + \\frac{\\delta}{2} \\right) - f \\left(x_0 - \\frac{\\delta}{2} \\right)}{\\delta} + \\mathcal{O}(x^2)\n",
    "$$"
   ]
  },
  {
   "cell_type": "markdown",
   "metadata": {},
   "source": [
    "$$\n",
    "    \\nabla \\times \\bold{E} = - \\mu \\frac{\\partial \\bold{H}}{\\partial t}\n",
    "$$"
   ]
  }
 ],
 "metadata": {
  "language_info": {
   "name": "python"
  }
 },
 "nbformat": 4,
 "nbformat_minor": 2
}
